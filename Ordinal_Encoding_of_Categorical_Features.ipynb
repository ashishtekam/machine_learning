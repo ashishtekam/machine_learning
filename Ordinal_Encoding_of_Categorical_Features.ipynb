{
  "nbformat": 4,
  "nbformat_minor": 0,
  "metadata": {
    "colab": {
      "name": "Ordinal Encoding of Categorical Features.ipynb",
      "provenance": [],
      "collapsed_sections": [],
      "authorship_tag": "ABX9TyPSNeiOgiLJ3pwwhhPsrv5T",
      "include_colab_link": true
    },
    "kernelspec": {
      "name": "python3",
      "display_name": "Python 3"
    },
    "language_info": {
      "name": "python"
    }
  },
  "cells": [
    {
      "cell_type": "markdown",
      "metadata": {
        "id": "view-in-github",
        "colab_type": "text"
      },
      "source": [
        "<a href=\"https://colab.research.google.com/github/ashishtekam/machine_learning/blob/main/Ordinal_Encoding_of_Categorical_Features.ipynb\" target=\"_parent\"><img src=\"https://colab.research.google.com/assets/colab-badge.svg\" alt=\"Open In Colab\"/></a>"
      ]
    },
    {
      "cell_type": "markdown",
      "source": [
        "#Ordinal Encoding of Categorical Features X"
      ],
      "metadata": {
        "id": "qdjZu-7-vSTV"
      }
    },
    {
      "cell_type": "markdown",
      "source": [
        "**Import Library**"
      ],
      "metadata": {
        "id": "ySNyZcfpva1h"
      }
    },
    {
      "cell_type": "code",
      "execution_count": null,
      "metadata": {
        "id": "ZUuxBHj8vKB-"
      },
      "outputs": [],
      "source": [
        "import pandas as pd\n",
        "import numpy as np"
      ]
    },
    {
      "cell_type": "markdown",
      "source": [
        "**Import CSV as Data Frames**"
      ],
      "metadata": {
        "id": "8rkoksKQvym6"
      }
    },
    {
      "cell_type": "code",
      "source": [
        "df = pd.read_csv('https://github.com/YBI-Foundation/Dataset/raw/main/Customer%20Purchase.csv')"
      ],
      "metadata": {
        "id": "X5TYE34uwAhE"
      },
      "execution_count": null,
      "outputs": []
    },
    {
      "cell_type": "markdown",
      "source": [
        "**Get Information of Dataframe**"
      ],
      "metadata": {
        "id": "aL86ghPnwYfj"
      }
    },
    {
      "cell_type": "code",
      "source": [
        "df.head()"
      ],
      "metadata": {
        "colab": {
          "base_uri": "https://localhost:8080/",
          "height": 206
        },
        "id": "ZRsfH-jiwe3S",
        "outputId": "72e083c0-7c73-4705-962f-388402c756f3"
      },
      "execution_count": null,
      "outputs": [
        {
          "output_type": "execute_result",
          "data": {
            "text/plain": [
              "   Customer ID  Age  Gender Education   Review Purchased\n",
              "0         1021   30  Female    School  Average        No\n",
              "1         1022   68  Female        UG     Poor        No\n",
              "2         1023   70  Female        PG     Good        No\n",
              "3         1024   72  Female        PG     Good        No\n",
              "4         1025   16  Female        UG  Average        No"
            ],
            "text/html": [
              "\n",
              "  <div id=\"df-7ef66ab0-ecc9-4fc4-aa1f-cb5904113ee7\">\n",
              "    <div class=\"colab-df-container\">\n",
              "      <div>\n",
              "<style scoped>\n",
              "    .dataframe tbody tr th:only-of-type {\n",
              "        vertical-align: middle;\n",
              "    }\n",
              "\n",
              "    .dataframe tbody tr th {\n",
              "        vertical-align: top;\n",
              "    }\n",
              "\n",
              "    .dataframe thead th {\n",
              "        text-align: right;\n",
              "    }\n",
              "</style>\n",
              "<table border=\"1\" class=\"dataframe\">\n",
              "  <thead>\n",
              "    <tr style=\"text-align: right;\">\n",
              "      <th></th>\n",
              "      <th>Customer ID</th>\n",
              "      <th>Age</th>\n",
              "      <th>Gender</th>\n",
              "      <th>Education</th>\n",
              "      <th>Review</th>\n",
              "      <th>Purchased</th>\n",
              "    </tr>\n",
              "  </thead>\n",
              "  <tbody>\n",
              "    <tr>\n",
              "      <th>0</th>\n",
              "      <td>1021</td>\n",
              "      <td>30</td>\n",
              "      <td>Female</td>\n",
              "      <td>School</td>\n",
              "      <td>Average</td>\n",
              "      <td>No</td>\n",
              "    </tr>\n",
              "    <tr>\n",
              "      <th>1</th>\n",
              "      <td>1022</td>\n",
              "      <td>68</td>\n",
              "      <td>Female</td>\n",
              "      <td>UG</td>\n",
              "      <td>Poor</td>\n",
              "      <td>No</td>\n",
              "    </tr>\n",
              "    <tr>\n",
              "      <th>2</th>\n",
              "      <td>1023</td>\n",
              "      <td>70</td>\n",
              "      <td>Female</td>\n",
              "      <td>PG</td>\n",
              "      <td>Good</td>\n",
              "      <td>No</td>\n",
              "    </tr>\n",
              "    <tr>\n",
              "      <th>3</th>\n",
              "      <td>1024</td>\n",
              "      <td>72</td>\n",
              "      <td>Female</td>\n",
              "      <td>PG</td>\n",
              "      <td>Good</td>\n",
              "      <td>No</td>\n",
              "    </tr>\n",
              "    <tr>\n",
              "      <th>4</th>\n",
              "      <td>1025</td>\n",
              "      <td>16</td>\n",
              "      <td>Female</td>\n",
              "      <td>UG</td>\n",
              "      <td>Average</td>\n",
              "      <td>No</td>\n",
              "    </tr>\n",
              "  </tbody>\n",
              "</table>\n",
              "</div>\n",
              "      <button class=\"colab-df-convert\" onclick=\"convertToInteractive('df-7ef66ab0-ecc9-4fc4-aa1f-cb5904113ee7')\"\n",
              "              title=\"Convert this dataframe to an interactive table.\"\n",
              "              style=\"display:none;\">\n",
              "        \n",
              "  <svg xmlns=\"http://www.w3.org/2000/svg\" height=\"24px\"viewBox=\"0 0 24 24\"\n",
              "       width=\"24px\">\n",
              "    <path d=\"M0 0h24v24H0V0z\" fill=\"none\"/>\n",
              "    <path d=\"M18.56 5.44l.94 2.06.94-2.06 2.06-.94-2.06-.94-.94-2.06-.94 2.06-2.06.94zm-11 1L8.5 8.5l.94-2.06 2.06-.94-2.06-.94L8.5 2.5l-.94 2.06-2.06.94zm10 10l.94 2.06.94-2.06 2.06-.94-2.06-.94-.94-2.06-.94 2.06-2.06.94z\"/><path d=\"M17.41 7.96l-1.37-1.37c-.4-.4-.92-.59-1.43-.59-.52 0-1.04.2-1.43.59L10.3 9.45l-7.72 7.72c-.78.78-.78 2.05 0 2.83L4 21.41c.39.39.9.59 1.41.59.51 0 1.02-.2 1.41-.59l7.78-7.78 2.81-2.81c.8-.78.8-2.07 0-2.86zM5.41 20L4 18.59l7.72-7.72 1.47 1.35L5.41 20z\"/>\n",
              "  </svg>\n",
              "      </button>\n",
              "      \n",
              "  <style>\n",
              "    .colab-df-container {\n",
              "      display:flex;\n",
              "      flex-wrap:wrap;\n",
              "      gap: 12px;\n",
              "    }\n",
              "\n",
              "    .colab-df-convert {\n",
              "      background-color: #E8F0FE;\n",
              "      border: none;\n",
              "      border-radius: 50%;\n",
              "      cursor: pointer;\n",
              "      display: none;\n",
              "      fill: #1967D2;\n",
              "      height: 32px;\n",
              "      padding: 0 0 0 0;\n",
              "      width: 32px;\n",
              "    }\n",
              "\n",
              "    .colab-df-convert:hover {\n",
              "      background-color: #E2EBFA;\n",
              "      box-shadow: 0px 1px 2px rgba(60, 64, 67, 0.3), 0px 1px 3px 1px rgba(60, 64, 67, 0.15);\n",
              "      fill: #174EA6;\n",
              "    }\n",
              "\n",
              "    [theme=dark] .colab-df-convert {\n",
              "      background-color: #3B4455;\n",
              "      fill: #D2E3FC;\n",
              "    }\n",
              "\n",
              "    [theme=dark] .colab-df-convert:hover {\n",
              "      background-color: #434B5C;\n",
              "      box-shadow: 0px 1px 3px 1px rgba(0, 0, 0, 0.15);\n",
              "      filter: drop-shadow(0px 1px 2px rgba(0, 0, 0, 0.3));\n",
              "      fill: #FFFFFF;\n",
              "    }\n",
              "  </style>\n",
              "\n",
              "      <script>\n",
              "        const buttonEl =\n",
              "          document.querySelector('#df-7ef66ab0-ecc9-4fc4-aa1f-cb5904113ee7 button.colab-df-convert');\n",
              "        buttonEl.style.display =\n",
              "          google.colab.kernel.accessAllowed ? 'block' : 'none';\n",
              "\n",
              "        async function convertToInteractive(key) {\n",
              "          const element = document.querySelector('#df-7ef66ab0-ecc9-4fc4-aa1f-cb5904113ee7');\n",
              "          const dataTable =\n",
              "            await google.colab.kernel.invokeFunction('convertToInteractive',\n",
              "                                                     [key], {});\n",
              "          if (!dataTable) return;\n",
              "\n",
              "          const docLinkHtml = 'Like what you see? Visit the ' +\n",
              "            '<a target=\"_blank\" href=https://colab.research.google.com/notebooks/data_table.ipynb>data table notebook</a>'\n",
              "            + ' to learn more about interactive tables.';\n",
              "          element.innerHTML = '';\n",
              "          dataTable['output_type'] = 'display_data';\n",
              "          await google.colab.output.renderOutput(dataTable, element);\n",
              "          const docLink = document.createElement('div');\n",
              "          docLink.innerHTML = docLinkHtml;\n",
              "          element.appendChild(docLink);\n",
              "        }\n",
              "      </script>\n",
              "    </div>\n",
              "  </div>\n",
              "  "
            ]
          },
          "metadata": {},
          "execution_count": 4
        }
      ]
    },
    {
      "cell_type": "code",
      "source": [
        "df.shape"
      ],
      "metadata": {
        "colab": {
          "base_uri": "https://localhost:8080/"
        },
        "id": "gQB7yv0Gwgw2",
        "outputId": "979a2b92-ccf2-42d1-984a-946b794d6008"
      },
      "execution_count": null,
      "outputs": [
        {
          "output_type": "execute_result",
          "data": {
            "text/plain": [
              "(50, 6)"
            ]
          },
          "metadata": {},
          "execution_count": 5
        }
      ]
    },
    {
      "cell_type": "code",
      "source": [
        "df.columns"
      ],
      "metadata": {
        "colab": {
          "base_uri": "https://localhost:8080/"
        },
        "id": "Ao-Y7G0IwrSl",
        "outputId": "84c40bc4-4e42-48f2-dc4e-0aa29dc407fa"
      },
      "execution_count": null,
      "outputs": [
        {
          "output_type": "execute_result",
          "data": {
            "text/plain": [
              "Index(['Customer ID', 'Age', 'Gender', 'Education', 'Review', 'Purchased'], dtype='object')"
            ]
          },
          "metadata": {},
          "execution_count": 6
        }
      ]
    },
    {
      "cell_type": "code",
      "source": [
        "df.info()"
      ],
      "metadata": {
        "colab": {
          "base_uri": "https://localhost:8080/"
        },
        "id": "moyHsdJhwso2",
        "outputId": "a587c875-24a5-4422-e918-4a41cc7537bc"
      },
      "execution_count": null,
      "outputs": [
        {
          "output_type": "stream",
          "name": "stdout",
          "text": [
            "<class 'pandas.core.frame.DataFrame'>\n",
            "RangeIndex: 50 entries, 0 to 49\n",
            "Data columns (total 6 columns):\n",
            " #   Column       Non-Null Count  Dtype \n",
            "---  ------       --------------  ----- \n",
            " 0   Customer ID  50 non-null     int64 \n",
            " 1   Age          50 non-null     int64 \n",
            " 2   Gender       50 non-null     object\n",
            " 3   Education    50 non-null     object\n",
            " 4   Review       50 non-null     object\n",
            " 5   Purchased    50 non-null     object\n",
            "dtypes: int64(2), object(4)\n",
            "memory usage: 2.5+ KB\n"
          ]
        }
      ]
    },
    {
      "cell_type": "markdown",
      "source": [
        "**Get Features X seperated from dataframe**"
      ],
      "metadata": {
        "id": "8A-IXc4Vw5go"
      }
    },
    {
      "cell_type": "code",
      "source": [
        "X = df[['Gender', 'Education', 'Review']]"
      ],
      "metadata": {
        "id": "-3mlz3BwxAQK"
      },
      "execution_count": null,
      "outputs": []
    },
    {
      "cell_type": "code",
      "source": [
        "X"
      ],
      "metadata": {
        "colab": {
          "base_uri": "https://localhost:8080/",
          "height": 1000
        },
        "id": "C7K9L-ONxUj5",
        "outputId": "9f8b9b01-c71d-41b3-9224-45c64c850012"
      },
      "execution_count": null,
      "outputs": [
        {
          "output_type": "execute_result",
          "data": {
            "text/plain": [
              "    Gender Education   Review\n",
              "0   Female    School  Average\n",
              "1   Female        UG     Poor\n",
              "2   Female        PG     Good\n",
              "3   Female        PG     Good\n",
              "4   Female        UG  Average\n",
              "5   Female    School  Average\n",
              "6     Male    School     Good\n",
              "7   Female    School     Poor\n",
              "8   Female        UG  Average\n",
              "9     Male        UG     Good\n",
              "10  Female        UG     Good\n",
              "11    Male        UG     Good\n",
              "12    Male    School     Poor\n",
              "13  Female    School  Average\n",
              "14    Male        PG     Poor\n",
              "15    Male        UG     Poor\n",
              "16    Male        UG     Poor\n",
              "17  Female        UG     Poor\n",
              "18    Male    School     Good\n",
              "19    Male        PG     Poor\n",
              "20  Female    School  Average\n",
              "21    Male        PG  Average\n",
              "22  Female        PG     Poor\n",
              "23  Female    School     Good\n",
              "24  Female        PG  Average\n",
              "25  Female    School     Good\n",
              "26  Female        PG     Poor\n",
              "27  Female        PG     Poor\n",
              "28    Male    School     Poor\n",
              "29  Female        UG  Average\n",
              "30    Male        UG  Average\n",
              "31  Female    School     Poor\n",
              "32    Male        UG  Average\n",
              "33  Female        PG     Good\n",
              "34    Male    School  Average\n",
              "35    Male    School     Poor\n",
              "36  Female        UG     Good\n",
              "37    Male        PG  Average\n",
              "38  Female    School     Good\n",
              "39    Male        PG     Poor\n",
              "40    Male    School     Good\n",
              "41    Male        PG     Good\n",
              "42  Female        PG     Good\n",
              "43    Male        PG     Poor\n",
              "44  Female        UG  Average\n",
              "45    Male        PG     Poor\n",
              "46  Female        PG     Poor\n",
              "47  Female        PG     Good\n",
              "48  Female        UG     Good\n",
              "49  Female        UG     Good"
            ],
            "text/html": [
              "\n",
              "  <div id=\"df-87514677-34ec-4152-ac1c-b6e299ac8cb5\">\n",
              "    <div class=\"colab-df-container\">\n",
              "      <div>\n",
              "<style scoped>\n",
              "    .dataframe tbody tr th:only-of-type {\n",
              "        vertical-align: middle;\n",
              "    }\n",
              "\n",
              "    .dataframe tbody tr th {\n",
              "        vertical-align: top;\n",
              "    }\n",
              "\n",
              "    .dataframe thead th {\n",
              "        text-align: right;\n",
              "    }\n",
              "</style>\n",
              "<table border=\"1\" class=\"dataframe\">\n",
              "  <thead>\n",
              "    <tr style=\"text-align: right;\">\n",
              "      <th></th>\n",
              "      <th>Gender</th>\n",
              "      <th>Education</th>\n",
              "      <th>Review</th>\n",
              "    </tr>\n",
              "  </thead>\n",
              "  <tbody>\n",
              "    <tr>\n",
              "      <th>0</th>\n",
              "      <td>Female</td>\n",
              "      <td>School</td>\n",
              "      <td>Average</td>\n",
              "    </tr>\n",
              "    <tr>\n",
              "      <th>1</th>\n",
              "      <td>Female</td>\n",
              "      <td>UG</td>\n",
              "      <td>Poor</td>\n",
              "    </tr>\n",
              "    <tr>\n",
              "      <th>2</th>\n",
              "      <td>Female</td>\n",
              "      <td>PG</td>\n",
              "      <td>Good</td>\n",
              "    </tr>\n",
              "    <tr>\n",
              "      <th>3</th>\n",
              "      <td>Female</td>\n",
              "      <td>PG</td>\n",
              "      <td>Good</td>\n",
              "    </tr>\n",
              "    <tr>\n",
              "      <th>4</th>\n",
              "      <td>Female</td>\n",
              "      <td>UG</td>\n",
              "      <td>Average</td>\n",
              "    </tr>\n",
              "    <tr>\n",
              "      <th>5</th>\n",
              "      <td>Female</td>\n",
              "      <td>School</td>\n",
              "      <td>Average</td>\n",
              "    </tr>\n",
              "    <tr>\n",
              "      <th>6</th>\n",
              "      <td>Male</td>\n",
              "      <td>School</td>\n",
              "      <td>Good</td>\n",
              "    </tr>\n",
              "    <tr>\n",
              "      <th>7</th>\n",
              "      <td>Female</td>\n",
              "      <td>School</td>\n",
              "      <td>Poor</td>\n",
              "    </tr>\n",
              "    <tr>\n",
              "      <th>8</th>\n",
              "      <td>Female</td>\n",
              "      <td>UG</td>\n",
              "      <td>Average</td>\n",
              "    </tr>\n",
              "    <tr>\n",
              "      <th>9</th>\n",
              "      <td>Male</td>\n",
              "      <td>UG</td>\n",
              "      <td>Good</td>\n",
              "    </tr>\n",
              "    <tr>\n",
              "      <th>10</th>\n",
              "      <td>Female</td>\n",
              "      <td>UG</td>\n",
              "      <td>Good</td>\n",
              "    </tr>\n",
              "    <tr>\n",
              "      <th>11</th>\n",
              "      <td>Male</td>\n",
              "      <td>UG</td>\n",
              "      <td>Good</td>\n",
              "    </tr>\n",
              "    <tr>\n",
              "      <th>12</th>\n",
              "      <td>Male</td>\n",
              "      <td>School</td>\n",
              "      <td>Poor</td>\n",
              "    </tr>\n",
              "    <tr>\n",
              "      <th>13</th>\n",
              "      <td>Female</td>\n",
              "      <td>School</td>\n",
              "      <td>Average</td>\n",
              "    </tr>\n",
              "    <tr>\n",
              "      <th>14</th>\n",
              "      <td>Male</td>\n",
              "      <td>PG</td>\n",
              "      <td>Poor</td>\n",
              "    </tr>\n",
              "    <tr>\n",
              "      <th>15</th>\n",
              "      <td>Male</td>\n",
              "      <td>UG</td>\n",
              "      <td>Poor</td>\n",
              "    </tr>\n",
              "    <tr>\n",
              "      <th>16</th>\n",
              "      <td>Male</td>\n",
              "      <td>UG</td>\n",
              "      <td>Poor</td>\n",
              "    </tr>\n",
              "    <tr>\n",
              "      <th>17</th>\n",
              "      <td>Female</td>\n",
              "      <td>UG</td>\n",
              "      <td>Poor</td>\n",
              "    </tr>\n",
              "    <tr>\n",
              "      <th>18</th>\n",
              "      <td>Male</td>\n",
              "      <td>School</td>\n",
              "      <td>Good</td>\n",
              "    </tr>\n",
              "    <tr>\n",
              "      <th>19</th>\n",
              "      <td>Male</td>\n",
              "      <td>PG</td>\n",
              "      <td>Poor</td>\n",
              "    </tr>\n",
              "    <tr>\n",
              "      <th>20</th>\n",
              "      <td>Female</td>\n",
              "      <td>School</td>\n",
              "      <td>Average</td>\n",
              "    </tr>\n",
              "    <tr>\n",
              "      <th>21</th>\n",
              "      <td>Male</td>\n",
              "      <td>PG</td>\n",
              "      <td>Average</td>\n",
              "    </tr>\n",
              "    <tr>\n",
              "      <th>22</th>\n",
              "      <td>Female</td>\n",
              "      <td>PG</td>\n",
              "      <td>Poor</td>\n",
              "    </tr>\n",
              "    <tr>\n",
              "      <th>23</th>\n",
              "      <td>Female</td>\n",
              "      <td>School</td>\n",
              "      <td>Good</td>\n",
              "    </tr>\n",
              "    <tr>\n",
              "      <th>24</th>\n",
              "      <td>Female</td>\n",
              "      <td>PG</td>\n",
              "      <td>Average</td>\n",
              "    </tr>\n",
              "    <tr>\n",
              "      <th>25</th>\n",
              "      <td>Female</td>\n",
              "      <td>School</td>\n",
              "      <td>Good</td>\n",
              "    </tr>\n",
              "    <tr>\n",
              "      <th>26</th>\n",
              "      <td>Female</td>\n",
              "      <td>PG</td>\n",
              "      <td>Poor</td>\n",
              "    </tr>\n",
              "    <tr>\n",
              "      <th>27</th>\n",
              "      <td>Female</td>\n",
              "      <td>PG</td>\n",
              "      <td>Poor</td>\n",
              "    </tr>\n",
              "    <tr>\n",
              "      <th>28</th>\n",
              "      <td>Male</td>\n",
              "      <td>School</td>\n",
              "      <td>Poor</td>\n",
              "    </tr>\n",
              "    <tr>\n",
              "      <th>29</th>\n",
              "      <td>Female</td>\n",
              "      <td>UG</td>\n",
              "      <td>Average</td>\n",
              "    </tr>\n",
              "    <tr>\n",
              "      <th>30</th>\n",
              "      <td>Male</td>\n",
              "      <td>UG</td>\n",
              "      <td>Average</td>\n",
              "    </tr>\n",
              "    <tr>\n",
              "      <th>31</th>\n",
              "      <td>Female</td>\n",
              "      <td>School</td>\n",
              "      <td>Poor</td>\n",
              "    </tr>\n",
              "    <tr>\n",
              "      <th>32</th>\n",
              "      <td>Male</td>\n",
              "      <td>UG</td>\n",
              "      <td>Average</td>\n",
              "    </tr>\n",
              "    <tr>\n",
              "      <th>33</th>\n",
              "      <td>Female</td>\n",
              "      <td>PG</td>\n",
              "      <td>Good</td>\n",
              "    </tr>\n",
              "    <tr>\n",
              "      <th>34</th>\n",
              "      <td>Male</td>\n",
              "      <td>School</td>\n",
              "      <td>Average</td>\n",
              "    </tr>\n",
              "    <tr>\n",
              "      <th>35</th>\n",
              "      <td>Male</td>\n",
              "      <td>School</td>\n",
              "      <td>Poor</td>\n",
              "    </tr>\n",
              "    <tr>\n",
              "      <th>36</th>\n",
              "      <td>Female</td>\n",
              "      <td>UG</td>\n",
              "      <td>Good</td>\n",
              "    </tr>\n",
              "    <tr>\n",
              "      <th>37</th>\n",
              "      <td>Male</td>\n",
              "      <td>PG</td>\n",
              "      <td>Average</td>\n",
              "    </tr>\n",
              "    <tr>\n",
              "      <th>38</th>\n",
              "      <td>Female</td>\n",
              "      <td>School</td>\n",
              "      <td>Good</td>\n",
              "    </tr>\n",
              "    <tr>\n",
              "      <th>39</th>\n",
              "      <td>Male</td>\n",
              "      <td>PG</td>\n",
              "      <td>Poor</td>\n",
              "    </tr>\n",
              "    <tr>\n",
              "      <th>40</th>\n",
              "      <td>Male</td>\n",
              "      <td>School</td>\n",
              "      <td>Good</td>\n",
              "    </tr>\n",
              "    <tr>\n",
              "      <th>41</th>\n",
              "      <td>Male</td>\n",
              "      <td>PG</td>\n",
              "      <td>Good</td>\n",
              "    </tr>\n",
              "    <tr>\n",
              "      <th>42</th>\n",
              "      <td>Female</td>\n",
              "      <td>PG</td>\n",
              "      <td>Good</td>\n",
              "    </tr>\n",
              "    <tr>\n",
              "      <th>43</th>\n",
              "      <td>Male</td>\n",
              "      <td>PG</td>\n",
              "      <td>Poor</td>\n",
              "    </tr>\n",
              "    <tr>\n",
              "      <th>44</th>\n",
              "      <td>Female</td>\n",
              "      <td>UG</td>\n",
              "      <td>Average</td>\n",
              "    </tr>\n",
              "    <tr>\n",
              "      <th>45</th>\n",
              "      <td>Male</td>\n",
              "      <td>PG</td>\n",
              "      <td>Poor</td>\n",
              "    </tr>\n",
              "    <tr>\n",
              "      <th>46</th>\n",
              "      <td>Female</td>\n",
              "      <td>PG</td>\n",
              "      <td>Poor</td>\n",
              "    </tr>\n",
              "    <tr>\n",
              "      <th>47</th>\n",
              "      <td>Female</td>\n",
              "      <td>PG</td>\n",
              "      <td>Good</td>\n",
              "    </tr>\n",
              "    <tr>\n",
              "      <th>48</th>\n",
              "      <td>Female</td>\n",
              "      <td>UG</td>\n",
              "      <td>Good</td>\n",
              "    </tr>\n",
              "    <tr>\n",
              "      <th>49</th>\n",
              "      <td>Female</td>\n",
              "      <td>UG</td>\n",
              "      <td>Good</td>\n",
              "    </tr>\n",
              "  </tbody>\n",
              "</table>\n",
              "</div>\n",
              "      <button class=\"colab-df-convert\" onclick=\"convertToInteractive('df-87514677-34ec-4152-ac1c-b6e299ac8cb5')\"\n",
              "              title=\"Convert this dataframe to an interactive table.\"\n",
              "              style=\"display:none;\">\n",
              "        \n",
              "  <svg xmlns=\"http://www.w3.org/2000/svg\" height=\"24px\"viewBox=\"0 0 24 24\"\n",
              "       width=\"24px\">\n",
              "    <path d=\"M0 0h24v24H0V0z\" fill=\"none\"/>\n",
              "    <path d=\"M18.56 5.44l.94 2.06.94-2.06 2.06-.94-2.06-.94-.94-2.06-.94 2.06-2.06.94zm-11 1L8.5 8.5l.94-2.06 2.06-.94-2.06-.94L8.5 2.5l-.94 2.06-2.06.94zm10 10l.94 2.06.94-2.06 2.06-.94-2.06-.94-.94-2.06-.94 2.06-2.06.94z\"/><path d=\"M17.41 7.96l-1.37-1.37c-.4-.4-.92-.59-1.43-.59-.52 0-1.04.2-1.43.59L10.3 9.45l-7.72 7.72c-.78.78-.78 2.05 0 2.83L4 21.41c.39.39.9.59 1.41.59.51 0 1.02-.2 1.41-.59l7.78-7.78 2.81-2.81c.8-.78.8-2.07 0-2.86zM5.41 20L4 18.59l7.72-7.72 1.47 1.35L5.41 20z\"/>\n",
              "  </svg>\n",
              "      </button>\n",
              "      \n",
              "  <style>\n",
              "    .colab-df-container {\n",
              "      display:flex;\n",
              "      flex-wrap:wrap;\n",
              "      gap: 12px;\n",
              "    }\n",
              "\n",
              "    .colab-df-convert {\n",
              "      background-color: #E8F0FE;\n",
              "      border: none;\n",
              "      border-radius: 50%;\n",
              "      cursor: pointer;\n",
              "      display: none;\n",
              "      fill: #1967D2;\n",
              "      height: 32px;\n",
              "      padding: 0 0 0 0;\n",
              "      width: 32px;\n",
              "    }\n",
              "\n",
              "    .colab-df-convert:hover {\n",
              "      background-color: #E2EBFA;\n",
              "      box-shadow: 0px 1px 2px rgba(60, 64, 67, 0.3), 0px 1px 3px 1px rgba(60, 64, 67, 0.15);\n",
              "      fill: #174EA6;\n",
              "    }\n",
              "\n",
              "    [theme=dark] .colab-df-convert {\n",
              "      background-color: #3B4455;\n",
              "      fill: #D2E3FC;\n",
              "    }\n",
              "\n",
              "    [theme=dark] .colab-df-convert:hover {\n",
              "      background-color: #434B5C;\n",
              "      box-shadow: 0px 1px 3px 1px rgba(0, 0, 0, 0.15);\n",
              "      filter: drop-shadow(0px 1px 2px rgba(0, 0, 0, 0.3));\n",
              "      fill: #FFFFFF;\n",
              "    }\n",
              "  </style>\n",
              "\n",
              "      <script>\n",
              "        const buttonEl =\n",
              "          document.querySelector('#df-87514677-34ec-4152-ac1c-b6e299ac8cb5 button.colab-df-convert');\n",
              "        buttonEl.style.display =\n",
              "          google.colab.kernel.accessAllowed ? 'block' : 'none';\n",
              "\n",
              "        async function convertToInteractive(key) {\n",
              "          const element = document.querySelector('#df-87514677-34ec-4152-ac1c-b6e299ac8cb5');\n",
              "          const dataTable =\n",
              "            await google.colab.kernel.invokeFunction('convertToInteractive',\n",
              "                                                     [key], {});\n",
              "          if (!dataTable) return;\n",
              "\n",
              "          const docLinkHtml = 'Like what you see? Visit the ' +\n",
              "            '<a target=\"_blank\" href=https://colab.research.google.com/notebooks/data_table.ipynb>data table notebook</a>'\n",
              "            + ' to learn more about interactive tables.';\n",
              "          element.innerHTML = '';\n",
              "          dataTable['output_type'] = 'display_data';\n",
              "          await google.colab.output.renderOutput(dataTable, element);\n",
              "          const docLink = document.createElement('div');\n",
              "          docLink.innerHTML = docLinkHtml;\n",
              "          element.appendChild(docLink);\n",
              "        }\n",
              "      </script>\n",
              "    </div>\n",
              "  </div>\n",
              "  "
            ]
          },
          "metadata": {},
          "execution_count": 11
        }
      ]
    },
    {
      "cell_type": "markdown",
      "source": [
        "**Encode Categorical Features as Integer Array**"
      ],
      "metadata": {
        "id": "-QBQ4YNHxdgb"
      }
    },
    {
      "cell_type": "code",
      "source": [
        "from sklearn.preprocessing import OrdinalEncoder"
      ],
      "metadata": {
        "id": "LqIwd6_Wxjby"
      },
      "execution_count": null,
      "outputs": []
    },
    {
      "cell_type": "code",
      "source": [
        "oe = OrdinalEncoder()"
      ],
      "metadata": {
        "id": "kr03-2T_xy74"
      },
      "execution_count": null,
      "outputs": []
    },
    {
      "cell_type": "code",
      "source": [
        "X = oe.fit_transform(X)"
      ],
      "metadata": {
        "id": "94NV8xiSx6P5"
      },
      "execution_count": null,
      "outputs": []
    },
    {
      "cell_type": "code",
      "source": [
        "X"
      ],
      "metadata": {
        "colab": {
          "base_uri": "https://localhost:8080/"
        },
        "id": "rK2ePaAZyAfZ",
        "outputId": "f7cfe6be-74df-4028-eac4-67cb346f7bd7"
      },
      "execution_count": null,
      "outputs": [
        {
          "output_type": "execute_result",
          "data": {
            "text/plain": [
              "array([[0., 1., 0.],\n",
              "       [0., 2., 2.],\n",
              "       [0., 0., 1.],\n",
              "       [0., 0., 1.],\n",
              "       [0., 2., 0.],\n",
              "       [0., 1., 0.],\n",
              "       [1., 1., 1.],\n",
              "       [0., 1., 2.],\n",
              "       [0., 2., 0.],\n",
              "       [1., 2., 1.],\n",
              "       [0., 2., 1.],\n",
              "       [1., 2., 1.],\n",
              "       [1., 1., 2.],\n",
              "       [0., 1., 0.],\n",
              "       [1., 0., 2.],\n",
              "       [1., 2., 2.],\n",
              "       [1., 2., 2.],\n",
              "       [0., 2., 2.],\n",
              "       [1., 1., 1.],\n",
              "       [1., 0., 2.],\n",
              "       [0., 1., 0.],\n",
              "       [1., 0., 0.],\n",
              "       [0., 0., 2.],\n",
              "       [0., 1., 1.],\n",
              "       [0., 0., 0.],\n",
              "       [0., 1., 1.],\n",
              "       [0., 0., 2.],\n",
              "       [0., 0., 2.],\n",
              "       [1., 1., 2.],\n",
              "       [0., 2., 0.],\n",
              "       [1., 2., 0.],\n",
              "       [0., 1., 2.],\n",
              "       [1., 2., 0.],\n",
              "       [0., 0., 1.],\n",
              "       [1., 1., 0.],\n",
              "       [1., 1., 2.],\n",
              "       [0., 2., 1.],\n",
              "       [1., 0., 0.],\n",
              "       [0., 1., 1.],\n",
              "       [1., 0., 2.],\n",
              "       [1., 1., 1.],\n",
              "       [1., 0., 1.],\n",
              "       [0., 0., 1.],\n",
              "       [1., 0., 2.],\n",
              "       [0., 2., 0.],\n",
              "       [1., 0., 2.],\n",
              "       [0., 0., 2.],\n",
              "       [0., 0., 1.],\n",
              "       [0., 2., 1.],\n",
              "       [0., 2., 1.]])"
            ]
          },
          "metadata": {},
          "execution_count": 15
        }
      ]
    },
    {
      "cell_type": "markdown",
      "source": [
        "**Display Encoded Categories**"
      ],
      "metadata": {
        "id": "cgpHlEVCyNEr"
      }
    },
    {
      "cell_type": "code",
      "source": [
        "oe.categories_"
      ],
      "metadata": {
        "colab": {
          "base_uri": "https://localhost:8080/"
        },
        "id": "ps9B6vI-yRQ2",
        "outputId": "78c365f9-2e9e-4951-d2b5-850cfdf870a7"
      },
      "execution_count": null,
      "outputs": [
        {
          "output_type": "execute_result",
          "data": {
            "text/plain": [
              "[array(['Female', 'Male'], dtype=object),\n",
              " array(['PG', 'School', 'UG'], dtype=object),\n",
              " array(['Average', 'Good', 'Poor'], dtype=object)]"
            ]
          },
          "metadata": {},
          "execution_count": 16
        }
      ]
    },
    {
      "cell_type": "markdown",
      "source": [
        "**Note:**"
      ],
      "metadata": {
        "id": "G7QXUm2myZo2"
      }
    },
    {
      "cell_type": "markdown",
      "source": [
        "\n",
        "\n",
        "* Female Assigned = 0, Male Assigned = 1\n",
        "* PG Assigned = 0, School Assigned = 1, UG Assigned = 2\n",
        "* Average Assigned = 0, Good Assigned = 1, Poor Assigned = 2\n",
        "\n",
        "\n",
        "\n",
        "\n"
      ],
      "metadata": {
        "id": "zuv-NLudyoBs"
      }
    },
    {
      "cell_type": "markdown",
      "source": [
        "**Reverse Encode Integer Array as Categorical Features X**"
      ],
      "metadata": {
        "id": "5B6h5AISzqJq"
      }
    },
    {
      "cell_type": "code",
      "source": [
        "oe.inverse_transform([[0,0,0]])"
      ],
      "metadata": {
        "colab": {
          "base_uri": "https://localhost:8080/"
        },
        "id": "HU3PeIzPz1jO",
        "outputId": "03b6a853-fcab-432e-c87d-bab4b2abc165"
      },
      "execution_count": null,
      "outputs": [
        {
          "output_type": "execute_result",
          "data": {
            "text/plain": [
              "array([['Female', 'PG', 'Average']], dtype=object)"
            ]
          },
          "metadata": {},
          "execution_count": 17
        }
      ]
    },
    {
      "cell_type": "code",
      "source": [
        "oe.inverse_transform([[1,1,1]])"
      ],
      "metadata": {
        "colab": {
          "base_uri": "https://localhost:8080/"
        },
        "id": "MraizcZ00JUV",
        "outputId": "608bbd93-3877-44a4-af31-9d71a7ba65dd"
      },
      "execution_count": null,
      "outputs": [
        {
          "output_type": "execute_result",
          "data": {
            "text/plain": [
              "array([['Male', 'School', 'Good']], dtype=object)"
            ]
          },
          "metadata": {},
          "execution_count": 18
        }
      ]
    },
    {
      "cell_type": "code",
      "source": [
        "oe.inverse_transform([[1,2,2]])"
      ],
      "metadata": {
        "colab": {
          "base_uri": "https://localhost:8080/"
        },
        "id": "BPYtICMR0O_Y",
        "outputId": "866dabc2-26b7-43ef-86c8-214b7b1c1f2a"
      },
      "execution_count": null,
      "outputs": [
        {
          "output_type": "execute_result",
          "data": {
            "text/plain": [
              "array([['Male', 'UG', 'Poor']], dtype=object)"
            ]
          },
          "metadata": {},
          "execution_count": 19
        }
      ]
    },
    {
      "cell_type": "markdown",
      "source": [
        "**Encode Categorical Features as Integer Array of your Choices**"
      ],
      "metadata": {
        "id": "HLllrjdj0b5P"
      }
    },
    {
      "cell_type": "code",
      "source": [
        "X = df[['Gender', 'Education', 'Review']]"
      ],
      "metadata": {
        "id": "1wK2_BqO0mjO"
      },
      "execution_count": null,
      "outputs": []
    },
    {
      "cell_type": "code",
      "source": [
        "oe = OrdinalEncoder(categories = [['Male', 'Female'], ['School', 'UG', 'PG'], ['Poor', 'Average', 'Good']])"
      ],
      "metadata": {
        "id": "upbcZfaU1HGh"
      },
      "execution_count": null,
      "outputs": []
    },
    {
      "cell_type": "code",
      "source": [
        "X = oe.fit_transform(X)"
      ],
      "metadata": {
        "id": "Mgnzo06V1qp0"
      },
      "execution_count": null,
      "outputs": []
    },
    {
      "cell_type": "code",
      "source": [
        "oe.categories_"
      ],
      "metadata": {
        "colab": {
          "base_uri": "https://localhost:8080/"
        },
        "id": "wiOYoThk1zii",
        "outputId": "6605db98-b004-4a41-cd10-f4253380e4ca"
      },
      "execution_count": null,
      "outputs": [
        {
          "output_type": "execute_result",
          "data": {
            "text/plain": [
              "[array(['Male', 'Female'], dtype=object),\n",
              " array(['School', 'UG', 'PG'], dtype=object),\n",
              " array(['Poor', 'Average', 'Good'], dtype=object)]"
            ]
          },
          "metadata": {},
          "execution_count": 23
        }
      ]
    },
    {
      "cell_type": "markdown",
      "source": [
        "Note:\n",
        "\n",
        "Male Assigned = 0, Female Assigned = 1\n",
        "School Assigned = 0, UG Assigned = 1, PG Assigned = 2\n",
        "Poor Assigned = 0, Average Assigned = 1, Good Assigned = 2"
      ],
      "metadata": {
        "id": "aSfDgUd22UZX"
      }
    }
  ]
}